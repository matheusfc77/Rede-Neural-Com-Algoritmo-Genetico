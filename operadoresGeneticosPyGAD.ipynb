{
  "nbformat": 4,
  "nbformat_minor": 0,
  "metadata": {
    "colab": {
      "name": "operadoresGeneticosPyGAD.ipynb",
      "provenance": []
    },
    "kernelspec": {
      "name": "python3",
      "display_name": "Python 3"
    },
    "language_info": {
      "name": "python"
    }
  },
  "cells": [
    {
      "cell_type": "markdown",
      "metadata": {
        "id": "mQnsWpJlJ2Oq"
      },
      "source": [
        "### Fonte: https://pypi.org/project/pygad/"
      ]
    },
    {
      "cell_type": "code",
      "metadata": {
        "id": "Tr5vKNZn59nv"
      },
      "source": [
        "def steady_state_selection(self, fitness, num_parents):\n",
        "\n",
        "        \"\"\"\n",
        "        Selects the parents using the steady-state selection technique. Later, these parents will mate to produce the offspring.\n",
        "        It accepts 2 parameters:\n",
        "            -fitness: The fitness values of the solutions in the current population.\n",
        "            -num_parents: The number of parents to be selected.\n",
        "        It returns an array of the selected parents.\n",
        "        \"\"\"\n",
        "        \n",
        "        fitness_sorted = sorted(range(len(fitness)), key=lambda k: fitness[k])\n",
        "        fitness_sorted.reverse()\n",
        "        # Selecting the best individuals in the current generation as parents for producing the offspring of the next generation.\n",
        "        if self.gene_type_single == True:\n",
        "            parents = numpy.empty((num_parents, self.population.shape[1]), dtype=self.gene_type[0])\n",
        "        else:\n",
        "            parents = numpy.empty((num_parents, self.population.shape[1]), dtype=object)\n",
        "        for parent_num in range(num_parents):\n",
        "            parents[parent_num, :] = self.population[fitness_sorted[parent_num], :].copy()\n",
        "\n",
        "        return parents, fitness_sorted[:num_parents]"
      ],
      "execution_count": null,
      "outputs": []
    },
    {
      "cell_type": "code",
      "metadata": {
        "id": "0CarAP6a6On9"
      },
      "source": [
        "def single_point_crossover(self, parents, offspring_size):\n",
        "\n",
        "        \"\"\"\n",
        "        Applies the single-point crossover. It selects a point randomly at which crossover takes place between the pairs of parents.\n",
        "        It accepts 2 parameters:\n",
        "            -parents: The parents to mate for producing the offspring.\n",
        "            -offspring_size: The size of the offspring to produce.\n",
        "        It returns an array the produced offspring.\n",
        "        \"\"\"\n",
        "\n",
        "        if self.gene_type_single == True:\n",
        "            offspring = numpy.empty(offspring_size, dtype=self.gene_type[0])\n",
        "        else:\n",
        "            offspring = numpy.empty(offspring_size, dtype=object)\n",
        "\n",
        "        for k in range(offspring_size[0]):\n",
        "            # The point at which crossover takes place between two parents. Usually, it is at the center.\n",
        "            crossover_point = numpy.random.randint(low=0, high=parents.shape[1], size=1)[0]\n",
        "\n",
        "            if not (self.crossover_probability is None):\n",
        "                probs = numpy.random.random(size=parents.shape[0])\n",
        "                indices = numpy.where(probs <= self.crossover_probability)[0]\n",
        "\n",
        "                # If no parent satisfied the probability, no crossover is applied and a parent is selected.\n",
        "                if len(indices) == 0:\n",
        "                    offspring[k, :] = parents[k % parents.shape[0], :]\n",
        "                    continue\n",
        "                elif len(indices) == 1:\n",
        "                    parent1_idx = indices[0]\n",
        "                    parent2_idx = parent1_idx\n",
        "                else:\n",
        "                    indices = random.sample(set(indices), 2)\n",
        "                    parent1_idx = indices[0]\n",
        "                    parent2_idx = indices[1]\n",
        "            else:\n",
        "                # Index of the first parent to mate.\n",
        "                parent1_idx = k % parents.shape[0]\n",
        "                # Index of the second parent to mate.\n",
        "                parent2_idx = (k+1) % parents.shape[0]\n",
        "\n",
        "            # The new offspring has its first half of its genes from the first parent.\n",
        "            offspring[k, 0:crossover_point] = parents[parent1_idx, 0:crossover_point]\n",
        "            # The new offspring has its second half of its genes from the second parent.\n",
        "            offspring[k, crossover_point:] = parents[parent2_idx, crossover_point:]\n",
        "        return offspring"
      ],
      "execution_count": null,
      "outputs": []
    },
    {
      "cell_type": "code",
      "metadata": {
        "id": "k2kt7zKH7JN7"
      },
      "source": [
        "def mutation_randomly(self, offspring):\n",
        "\n",
        "        \"\"\"\n",
        "        Applies the random mutation the mutation probability. For each gene, if its probability is <= that mutation probability, \n",
        "        then it will be mutated randomly.\n",
        "        It accepts a single parameter:\n",
        "            -offspring: The offspring to mutate.\n",
        "        It returns an array of the mutated offspring.\n",
        "        \"\"\"\n",
        "\n",
        "        # Random mutation changes one or more genes in each offspring randomly.\n",
        "        for offspring_idx in range(offspring.shape[0]):\n",
        "            mutation_indices = numpy.array(random.sample(range(0, self.num_genes), self.mutation_num_genes))\n",
        "            for gene_idx in mutation_indices:\n",
        "                # Generating a random value.\n",
        "                random_value = numpy.random.uniform(low=self.random_mutation_min_val, \n",
        "                                                    high=self.random_mutation_max_val, \n",
        "                                                    size=1)\n",
        "                # If the mutation_by_replacement attribute is True, then the random value replaces the current gene value.\n",
        "                if self.mutation_by_replacement:\n",
        "                    if self.gene_type_single == True:\n",
        "                        random_value = self.gene_type[0](random_value)\n",
        "                    else:\n",
        "                        random_value = self.gene_type[gene_idx][0](random_value)\n",
        "                        if type(random_value) is numpy.ndarray:\n",
        "                            random_value = random_value[0]\n",
        "               # If the mutation_by_replacement attribute is False, then the random value is added to the gene value.\n",
        "                else:\n",
        "                    if self.gene_type_single == True:\n",
        "                        random_value = self.gene_type[0](offspring[offspring_idx, gene_idx] + random_value)\n",
        "                    else:\n",
        "                        random_value = self.gene_type[gene_idx][0](offspring[offspring_idx, gene_idx] + random_value)\n",
        "                        if type(random_value) is numpy.ndarray:\n",
        "                            random_value = random_value[0]\n",
        "\n",
        "                # Round the gene\n",
        "                if self.gene_type_single == True:\n",
        "                    if not self.gene_type[1] is None:\n",
        "                        random_value = numpy.round(random_value, self.gene_type[1])\n",
        "                else:\n",
        "                    if not self.gene_type[gene_idx][1] is None:\n",
        "                        random_value = numpy.round(random_value, self.gene_type[gene_idx][1])\n",
        "\n",
        "                offspring[offspring_idx, gene_idx] = random_value\n",
        "\n",
        "                if self.allow_duplicate_genes == False:\n",
        "                    offspring[offspring_idx], _, _ = self.solve_duplicate_genes_randomly(solution=offspring[offspring_idx],\n",
        "                                                                                         min_val=self.random_mutation_min_val,\n",
        "                                                                                         max_val=self.random_mutation_max_val,\n",
        "                                                                                         mutation_by_replacement=self.mutation_by_replacement,\n",
        "                                                                                         gene_type=self.gene_type,\n",
        "                                                                                         num_trials=10)\n",
        "\n",
        "        return offspring"
      ],
      "execution_count": null,
      "outputs": []
    }
  ]
}